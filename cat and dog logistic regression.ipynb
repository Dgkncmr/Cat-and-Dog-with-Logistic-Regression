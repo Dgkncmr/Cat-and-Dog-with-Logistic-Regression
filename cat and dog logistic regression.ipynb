{
 "cells": [
  {
   "cell_type": "markdown",
   "id": "9204c59d",
   "metadata": {},
   "source": [
    "# **Adding libraries**"
   ]
  },
  {
   "cell_type": "code",
   "execution_count": null,
   "id": "f5d32e85",
   "metadata": {},
   "outputs": [],
   "source": [
    "import numpy as np # linear algebra\n",
    "import pandas as pd # data processing, CSV file I/O (e.g. pd.read_csv)\n",
    "import glob\n",
    "import matplotlib.pyplot as plt\n",
    "from skimage.transform import resize\n",
    "from matplotlib.pyplot import imread,imshow\n",
    "import warnings\n",
    "\n",
    "warnings.filterwarnings('ignore')"
   ]
  },
  {
   "cell_type": "markdown",
   "id": "f31319f9",
   "metadata": {},
   "source": [
    "# **Data Preprocessing**"
   ]
  },
  {
   "cell_type": "code",
   "execution_count": null,
   "id": "2fe4ef94",
   "metadata": {},
   "outputs": [],
   "source": [
    "train_cat_list = glob.glob(\"training_set/training_set/cats/*.jpg\")\n",
    "train_dog_list = glob.glob(\"training_set/training_set/dogs/*.jpg\")\n",
    "\n",
    "test_cat_list = glob.glob(\"../input/cat-and-dog/test_set/test_set/cats/*.jpg\")\n",
    "test_dog_list = glob.glob(\"../input/cat-and-dog/test_set/test_set/dogs/*.jpg\")\n",
    "\n",
    "y_train = np.concatenate((np.zeros((1, len(train_cat_list))), np.ones((1,len(train_dog_list)), dtype=int)), axis=1)\n",
    "y_test = np.concatenate((np.zeros((1, len(test_cat_list))), np.ones((1,len(test_dog_list)), dtype=int)), axis=1)\n",
    "\n",
    "X = train_cat_list + train_dog_list + test_cat_list + test_dog_list\n",
    "Y = np.concatenate((y_train, y_test),axis=1).T\n",
    "\n",
    "x =[]\n",
    "\n",
    "for image in X:\n",
    "    x.append(resize(imread(image),(64,64,1)))\n"
   ]
  },
  {
   "cell_type": "code",
   "execution_count": null,
   "id": "3cfda5e8",
   "metadata": {},
   "outputs": [],
   "source": [
    "from sklearn.model_selection import train_test_split\n",
    "\n",
    "X_train, X_test, y_train, y_test = train_test_split(np.array(x), Y, test_size = 0.23, random_state = 53)\n",
    "\n",
    "X_train = X_train.reshape((X_train.shape[0],64*64)).T\n",
    "X_test = X_test.reshape((X_test.shape[0],64*64)).T\n",
    "\n",
    "y_train = y_train.T\n",
    "y_test = y_test.T\n",
    "\n",
    "print(X_train.shape, X_test.shape, y_train.shape, y_test.shape)"
   ]
  },
  {
   "cell_type": "markdown",
   "id": "a26d6e1e",
   "metadata": {},
   "source": [
    "# **Logistic Regression without Sklearn**"
   ]
  },
  {
   "cell_type": "markdown",
   "id": "d362ba4c",
   "metadata": {},
   "source": [
    "**Initializing Parameters**"
   ]
  },
  {
   "cell_type": "code",
   "execution_count": null,
   "id": "e227236e",
   "metadata": {},
   "outputs": [],
   "source": [
    "def initialize_weight_and_bias(dimension):\n",
    "    w = np.full((dimension,1),0.01)\n",
    "    b = 0.0\n",
    "    return w,b"
   ]
  },
  {
   "cell_type": "markdown",
   "id": "9031060f",
   "metadata": {},
   "source": [
    "**Sigmoid Function**"
   ]
  },
  {
   "cell_type": "code",
   "execution_count": null,
   "id": "ffdb17c3",
   "metadata": {},
   "outputs": [],
   "source": [
    "def sigmoid(z):\n",
    "    y_head = 1/(1+np.exp(-z))\n",
    "    return y_head"
   ]
  },
  {
   "cell_type": "markdown",
   "id": "48721106",
   "metadata": {},
   "source": [
    "**Forward Propagation**"
   ]
  },
  {
   "cell_type": "code",
   "execution_count": null,
   "id": "3632b516",
   "metadata": {},
   "outputs": [],
   "source": [
    "def forward_propagation(w, b, X_train, y_train):\n",
    "    z = np.dot(w.T, X_train) + b\n",
    "    y_head = sigmoid(z)\n",
    "    loss =(-(1 -  y_train) * np.log(1 - y_head)) - (y_train * np.log(y_head))\n",
    "    cost = (np.sum(loss))/X_train.shape[1]\n",
    "    return cost,y_head"
   ]
  },
  {
   "cell_type": "markdown",
   "id": "f2524c90",
   "metadata": {},
   "source": [
    "**Backward Propagation**"
   ]
  },
  {
   "cell_type": "code",
   "execution_count": null,
   "id": "fa59e610",
   "metadata": {},
   "outputs": [],
   "source": [
    "def backward_propagation(X_train, y_head, y_train ):\n",
    "    derivative_weight = (np.dot(X_train,((y_head-y_train).T)))/X_train.shape[1] # x_train.shape[1]  is for scaling\n",
    "    derivative_bias = np.sum(y_head-y_train)/X_train.shape[1]                 # x_train.shape[1]  is for scaling\n",
    "    gradients = {\"derivative_weight\": derivative_weight,\"derivative_bias\": derivative_bias}\n",
    "    return gradients"
   ]
  },
  {
   "cell_type": "markdown",
   "id": "3d5fd0ac",
   "metadata": {},
   "source": [
    "**Updating Parameters**"
   ]
  },
  {
   "cell_type": "code",
   "execution_count": null,
   "id": "28ff791c",
   "metadata": {},
   "outputs": [],
   "source": [
    "def update(w, b, X_train, y_train, learning_rate, number_of_iteration):\n",
    "    cost_list = []\n",
    "    cost_list2 = []\n",
    "    index = []\n",
    "    \n",
    "    for i in range(number_of_iteration):\n",
    "        cost, y_head = forward_propagation(w, b, X_train, y_train)\n",
    "        gradients = backward_propagation(X_train, y_head, y_train)\n",
    "        cost_list.append(cost)\n",
    "        w = w - learning_rate * gradients[\"derivative_weight\"]\n",
    "        b = b - learning_rate * gradients[\"derivative_bias\"]\n",
    "        \n",
    "        if i % 20 == 0:\n",
    "            cost_list2.append(cost)\n",
    "            index.append(i)\n",
    "            # print(\"Cost after iteration %i : %f\" %(i, cost))\n",
    "    \n",
    "    parameters = {\"Weight\": w, \"Bias\": b}\n",
    "    plt.plot(index, cost_list2)\n",
    "    plt.xticks(index, rotation='vertical')\n",
    "    plt.xlabel(\"Number of iteration\")\n",
    "    plt.ylabel(\"Cost\")\n",
    "    plt.show()\n",
    "    \n",
    "    return parameters, gradients, cost_list"
   ]
  },
  {
   "cell_type": "markdown",
   "id": "48317e54",
   "metadata": {},
   "source": [
    "**Prediction**"
   ]
  },
  {
   "cell_type": "code",
   "execution_count": null,
   "id": "8daa3c24",
   "metadata": {},
   "outputs": [],
   "source": [
    "def predict(w, b, x_test):\n",
    "    y_head = sigmoid(np.dot(w.T, x_test) + b)\n",
    "    Y_prediction = np.zeros((1,x_test.shape[1]))\n",
    "    \n",
    "    for i in range(y_head.shape[1]):\n",
    "        if y_head[0, i] <= 0.5:\n",
    "            Y_prediction[0,i] = 0\n",
    "        else:\n",
    "            Y_prediction[0,i] = 1\n",
    "    \n",
    "    return Y_prediction\n",
    "# predict(parameters[\"weight\"],parameters[\"bias\"],x_test)"
   ]
  },
  {
   "cell_type": "markdown",
   "id": "4be14210",
   "metadata": {},
   "source": [
    "**Logistic Regression Function**"
   ]
  },
  {
   "cell_type": "code",
   "execution_count": null,
   "id": "e80d5825",
   "metadata": {},
   "outputs": [],
   "source": [
    "def logistic_regression(X_train, y_train, X_test, y_test, learning_rate, number_of_iterations):\n",
    "    dimension = X_train.shape[0]\n",
    "    w,b = initialize_weight_and_bias(dimension)\n",
    "    \n",
    "    parameters, gradients, cost_list = update(w, b, X_train, y_train, learning_rate, number_of_iterations)\n",
    "    \n",
    "    y_prediction_test = predict (parameters[\"Weight\"], parameters[\"Bias\"], X_test)\n",
    "    y_prediction_train = predict (parameters[\"Weight\"], parameters[\"Bias\"], X_train)\n",
    "    \n",
    "    print(\"train accuracy: {} %\".format(100 - np.mean(np.abs(y_prediction_train - y_train)) * 100))\n",
    "    print(\"test accuracy: {} %\".format(100 - np.mean(np.abs(y_prediction_test - y_test)) * 100))\n",
    "\n",
    "logistic_regression(X_train, y_train, X_test, y_test, learning_rate = 0.001, number_of_iterations = 150)"
   ]
  },
  {
   "cell_type": "markdown",
   "id": "86c4ab38",
   "metadata": {},
   "source": [
    "# **Logistic Regression with Sklearn**"
   ]
  },
  {
   "cell_type": "code",
   "execution_count": null,
   "id": "2cc9da3d",
   "metadata": {},
   "outputs": [],
   "source": [
    "from sklearn.linear_model import LogisticRegression\n",
    "\n",
    "clf = LogisticRegression(random_state = 0, max_iter = 150, solver = 'liblinear')\n",
    "print(X_train.shape, y_train.shape, X_test.shape, y_test.shape)\n",
    "print(\"Test Accuracy: \", (clf.fit(X_train.T, y_train.T).score(X_test.T, y_test.T)))"
   ]
  }
 ],
 "metadata": {
  "kernelspec": {
   "display_name": "Python 3.9.5 64-bit",
   "language": "python",
   "name": "python3"
  },
  "language_info": {
   "codemirror_mode": {
    "name": "ipython",
    "version": 3
   },
   "file_extension": ".py",
   "mimetype": "text/x-python",
   "name": "python",
   "nbconvert_exporter": "python",
   "pygments_lexer": "ipython3",
   "version": "3.9.5"
  },
  "vscode": {
   "interpreter": {
    "hash": "11938c6bc6919ae2720b4d5011047913343b08a43b18698fd82dedb0d4417594"
   }
  }
 },
 "nbformat": 4,
 "nbformat_minor": 5
}
